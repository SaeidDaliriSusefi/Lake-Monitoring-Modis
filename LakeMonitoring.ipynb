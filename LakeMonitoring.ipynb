{
  "cells": [
    {
      "cell_type": "markdown",
      "metadata": {
        "id": "view-in-github",
        "colab_type": "text"
      },
      "source": [
        "<a href=\"https://colab.research.google.com/github/SaeidDaliriSusefi/Lake-Monitoring-Modis/blob/main/LakeMonitoring.ipynb\" target=\"_parent\"><img src=\"https://colab.research.google.com/assets/colab-badge.svg\" alt=\"Open In Colab\"/></a>"
      ]
    },
    {
      "cell_type": "code",
      "source": [
        "! pip install xee -q"
      ],
      "metadata": {
        "id": "Yo7wevjkb6lS"
      },
      "execution_count": 1,
      "outputs": []
    },
    {
      "cell_type": "code",
      "source": [
        "import ee\n",
        "import geemap\n",
        "import xarray as xr\n",
        "import xee\n",
        "from sklearn.cluster import KMeans\n",
        "import matplotlib.pyplot as plt\n",
        "import pandas as pd"
      ],
      "metadata": {
        "id": "IQGnCuJica9e"
      },
      "execution_count": 4,
      "outputs": []
    },
    {
      "cell_type": "code",
      "source": [
        "ee.Authenticate()\n",
        "ee.Initialize(project=\"Your google earth engine project name\", opt_url='https://earthengine-highvolume.googleapis.com')"
      ],
      "metadata": {
        "colab": {
          "base_uri": "https://localhost:8080/",
          "height": 17
        },
        "id": "jcWn1tLicXM2",
        "outputId": "25adc99a-9323-4614-a892-7883f1b32f81"
      },
      "execution_count": 5,
      "outputs": [
        {
          "output_type": "display_data",
          "data": {
            "text/plain": [
              "<IPython.core.display.HTML object>"
            ],
            "text/html": [
              "\n",
              "            <style>\n",
              "                .geemap-dark {\n",
              "                    --jp-widgets-color: white;\n",
              "                    --jp-widgets-label-color: white;\n",
              "                    --jp-ui-font-color1: white;\n",
              "                    --jp-layout-color2: #454545;\n",
              "                    background-color: #383838;\n",
              "                }\n",
              "\n",
              "                .geemap-dark .jupyter-button {\n",
              "                    --jp-layout-color3: #383838;\n",
              "                }\n",
              "\n",
              "                .geemap-colab {\n",
              "                    background-color: var(--colab-primary-surface-color, white);\n",
              "                }\n",
              "\n",
              "                .geemap-colab .jupyter-button {\n",
              "                    --jp-layout-color3: var(--colab-primary-surface-color, white);\n",
              "                }\n",
              "            </style>\n",
              "            "
            ]
          },
          "metadata": {}
        }
      ]
    },
    {
      "cell_type": "code",
      "source": [
        "# Select the area of intrest\n",
        "map=geemap.Map(basemap=\"SATELLITE\")\n",
        "map"
      ],
      "metadata": {
        "id": "Lfli_ZpudE1e"
      },
      "execution_count": 27,
      "outputs": []
    },
    {
      "cell_type": "code",
      "source": [
        "roi = map.draw_last_feature.geometry()\n",
        "\n",
        "start_time = '2000-01-01'\n",
        "end_time = '2024-12-31'\n",
        "\n",
        "Modis = ee.ImageCollection(\"MODIS/061/MOD09A1\").select('sur_refl_b02', 'sur_refl_b04').filterDate(start_time, end_time).filterBounds(roi)\n",
        "\n",
        "def add_year(img):\n",
        "    date = ee.Date(img.get('system:time_start'))\n",
        "    year = date.get('year')\n",
        "    return img.set('year', year)\n",
        "\n",
        "Modis_with_year = Modis.map(add_year)\n",
        "\n",
        "\n",
        "years = Modis_with_year.aggregate_array('year').distinct().sort()\n",
        "\n",
        "def yearly_mean(year):\n",
        "    year = ee.Number(year)\n",
        "    filtered = Modis_with_year.filter(ee.Filter.eq('year', year))\n",
        "    mean_image = filtered.mean().set('year', year)\n",
        "    return mean_image\n",
        "\n",
        "yearly_means = ee.ImageCollection(years.map(yearly_mean))\n",
        "\n"
      ],
      "metadata": {
        "colab": {
          "base_uri": "https://localhost:8080/",
          "height": 17
        },
        "id": "sYjVKLawb7Gm",
        "outputId": "0c48526e-319d-474e-ea59-e34e8d560fc2"
      },
      "execution_count": 25,
      "outputs": [
        {
          "output_type": "display_data",
          "data": {
            "text/plain": [
              "<IPython.core.display.HTML object>"
            ],
            "text/html": [
              "\n",
              "            <style>\n",
              "                .geemap-dark {\n",
              "                    --jp-widgets-color: white;\n",
              "                    --jp-widgets-label-color: white;\n",
              "                    --jp-ui-font-color1: white;\n",
              "                    --jp-layout-color2: #454545;\n",
              "                    background-color: #383838;\n",
              "                }\n",
              "\n",
              "                .geemap-dark .jupyter-button {\n",
              "                    --jp-layout-color3: #383838;\n",
              "                }\n",
              "\n",
              "                .geemap-colab {\n",
              "                    background-color: var(--colab-primary-surface-color, white);\n",
              "                }\n",
              "\n",
              "                .geemap-colab .jupyter-button {\n",
              "                    --jp-layout-color3: var(--colab-primary-surface-color, white);\n",
              "                }\n",
              "            </style>\n",
              "            "
            ]
          },
          "metadata": {}
        }
      ]
    },
    {
      "cell_type": "code",
      "source": [
        "def ndwi(img):\n",
        "    index = img.normalizedDifference(['sur_refl_b04','sur_refl_b02']).rename('ndwi')\n",
        "    return index.copyProperties(img, img.propertyNames())\n",
        "\n",
        "ndwi_yearly = yearly_means.map(ndwi)\n",
        "\n",
        "years = ndwi_yearly.aggregate_array('year').getInfo()\n",
        "\n",
        "ds = xr.open_dataset(ndwi_yearly, engine='ee', crs='EPSG:4326', scale=0.0045, geometry=roi)\n",
        "\n",
        "new_time = pd.to_datetime([str(y) for y in years]).year\n",
        "\n",
        "ds['time'] = new_time\n",
        "\n",
        "ndwi_annual = ds['ndwi']\n",
        "\n",
        "ndwi_annual.plot(\n",
        "    x='lon',\n",
        "    y='lat',\n",
        "    cmap='Blues',\n",
        "    col='time',\n",
        "    col_wrap=5,\n",
        "    robust=True\n",
        ")\n",
        "\n",
        "plt.savefig('lake_desiccation.png', dpi=360, bbox_inches='tight')\n"
      ],
      "metadata": {
        "id": "GTMp1a-Hxb9X"
      },
      "execution_count": 27,
      "outputs": []
    },
    {
      "cell_type": "code",
      "source": [
        "df = ds.to_dataframe().reset_index()\n",
        "\n",
        "df = df.dropna(subset=['ndwi'])\n",
        "\n",
        "model = KMeans(n_clusters=2, random_state=42)\n",
        "df['clustering'] = model.fit_predict(df[['ndwi']])\n",
        "\n",
        "xarr = df.set_index(['time', 'lat', 'lon']).to_xarray()\n",
        "\n",
        "xarr = xarr.sortby('lon').sortby('lat')\n",
        "\n",
        "\n",
        "lake_pixels_per_year = (xarr.clustering == 1).sum(dim=['lat', 'lon'])\n",
        "lake_area_per_year = lake_pixels_per_year * 0.25  # km²\n",
        "lake_area_values = lake_area_per_year.values\n",
        "\n",
        "years = xarr['time'].values\n",
        "n_years = len(years)\n",
        "n_cols = 5\n",
        "n_rows = (n_years + n_cols - 1) // n_cols\n",
        "\n",
        "fig, axes = plt.subplots(n_rows, n_cols, figsize=(20, 4 * n_rows), constrained_layout=True)\n",
        "axes = axes.flatten()\n",
        "\n",
        "for i, year in enumerate(years):\n",
        "    data = xarr.clustering.sel(time=year)\n",
        "    im = data.plot(\n",
        "        ax=axes[i],\n",
        "        x='lon',\n",
        "        y='lat',\n",
        "        cmap='Blues',\n",
        "        add_colorbar=False\n",
        "    )\n",
        "    year_str = pd.to_datetime(str(year)).year\n",
        "    area = lake_area_values[i]\n",
        "    axes[i].set_title(f\"{year_str}\")\n",
        "    axes[i].text(\n",
        "        0.05, 0.05,\n",
        "        f\"Lake area: {area:.1f} km²\",\n",
        "        transform=axes[i].transAxes,\n",
        "        fontsize=10,\n",
        "        bbox=dict(facecolor='white', alpha=0.7, boxstyle='round,pad=0.3')\n",
        "    )\n",
        "\n",
        "for j in range(i + 1, len(axes)):\n",
        "    axes[j].axis('off')\n",
        "\n",
        "plt.savefig(\"lake_clustering_with_area_labels.png\", dpi=360, bbox_inches='tight')\n",
        "plt.show()\n"
      ],
      "metadata": {
        "id": "hk2SSXXW81RL"
      },
      "execution_count": 27,
      "outputs": []
    }
  ],
  "metadata": {
    "colab": {
      "provenance": [],
      "authorship_tag": "ABX9TyMlXaW0fY41r4Q3A27ykDtU",
      "include_colab_link": true
    },
    "kernelspec": {
      "display_name": "Python 3",
      "name": "python3"
    },
    "language_info": {
      "name": "python"
    }
  },
  "nbformat": 4,
  "nbformat_minor": 0
}